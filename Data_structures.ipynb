{
 "cells": [
  {
   "cell_type": "code",
   "execution_count": null,
   "id": "52f8a699-7460-42ac-83f7-4db1397acbb3",
   "metadata": {},
   "outputs": [],
   "source": [
    "#Theoretical questions :"
   ]
  },
  {
   "cell_type": "markdown",
   "id": "4c9352ef-2b26-4946-b007-07e1079ff9fc",
   "metadata": {},
   "source": [
    "1.What are data structures, and why are they important?\n",
    "\n",
    "->> Data structures are ways of organizing and storing data to perform operations efficiently. They are important because they help manage and process data in a structured way, which improves performance and code readability.\n"
   ]
  },
  {
   "cell_type": "markdown",
   "id": "3130dfc3-1493-4e55-b57c-aee9b8d1e04d",
   "metadata": {},
   "source": [
    "2.Explain the difference between mutable and immutable data types with examples.\n",
    "\n",
    "->> Mutable: Can be changed after creation. Example: list, dict, set.\n",
    "->> Immutable: Cannot be changed after creation. Example: int, str, tuple.\n"
   ]
  },
  {
   "cell_type": "markdown",
   "id": "269745e2-d344-48a2-9114-33684aebc4cc",
   "metadata": {},
   "source": [
    "3.What are the main differences between lists and tuples in Python?\n",
    "\n",
    "->> Lists are mutable, tuples are immutable.\n",
    "->> Lists use square brackets [ ], tuples use parentheses ( ).\n"
   ]
  },
  {
   "cell_type": "markdown",
   "id": "6e25a324-7c98-41ed-a5f0-191eb53c7ddf",
   "metadata": {},
   "source": [
    "4.Describe how dictionaries store data.\n",
    "\n",
    "->> Dictionaries store data as key-value pairs.\n",
    "->> Keys must be unique and immutable, and values can be any data type.\n"
   ]
  },
  {
   "cell_type": "markdown",
   "id": "2795f63d-1a13-4a8d-b405-fecd477135f1",
   "metadata": {},
   "source": [
    "5.Why might you use a set instead of a list in Python?\n",
    "\n",
    "->> Sets automatically remove duplicates and provide faster membership testing than lists.\n"
   ]
  },
  {
   "cell_type": "markdown",
   "id": "adfa1ffb-ec38-41ef-ba6b-1b446c595b63",
   "metadata": {},
   "source": [
    "6.What is a string in Python, and how is it different from a list?\n",
    "\n",
    "->> A string is a sequence of characters (immutable), while a list is a collection of elements (mutable).\n"
   ]
  },
  {
   "cell_type": "markdown",
   "id": "d772fbde-2c3d-4276-9039-a8975bbcfb57",
   "metadata": {},
   "source": [
    "7.How do tuples ensure data integrity in Python?\n",
    "\n",
    "->> Since tuples are immutable, their content cannot be changed, making them safe for storing constant data.\n"
   ]
  },
  {
   "cell_type": "markdown",
   "id": "152c54cf-8276-4f34-b457-23d58be83336",
   "metadata": {},
   "source": [
    "8.What is a hash table, and how does it relate to dictionaries in Python?\n",
    "\n",
    "->> A hash table maps keys to values using a hash function. Python dictionaries are implemented using hash tables.\n"
   ]
  },
  {
   "cell_type": "markdown",
   "id": "e72608ba-fb4a-4414-868e-f900e10941f6",
   "metadata": {},
   "source": [
    "9.Can lists contain different data types in Python?\n",
    "\n",
    "->> Yes, Python lists can store elements of different data types.\n"
   ]
  },
  {
   "cell_type": "markdown",
   "id": "b9653eec-c5f5-420e-9d88-e6b11da124de",
   "metadata": {},
   "source": [
    "10.Explain why strings are immutable in Python.\n",
    "\n",
    "->> Strings are immutable to ensure consistency, thread-safety, and optimization through interning.\n"
   ]
  },
  {
   "cell_type": "markdown",
   "id": "7c89ef1a-d443-43de-bd6a-92221e889efe",
   "metadata": {},
   "source": [
    "11.What advantages do dictionaries offer over lists for certain tasks?\n",
    "\n",
    "->> Fast lookups, key-based access, and no need to search through the whole structure for a value.\n"
   ]
  },
  {
   "cell_type": "markdown",
   "id": "e74fe395-a556-492c-91b0-fe8d66d82f1b",
   "metadata": {},
   "source": [
    "12.Describe a scenario where using a tuple would be preferable over a list.\n",
    "\n",
    "->> When storing fixed data like coordinates (x, y), tuples are preferable due to immutability.\n"
   ]
  },
  {
   "cell_type": "markdown",
   "id": "72d75cae-4b3f-4ee0-a9cc-59c388df3686",
   "metadata": {},
   "source": [
    "13.How do sets handle duplicate values in Python?\n",
    "\n",
    "->> Sets automatically remove any duplicate entries.\n"
   ]
  },
  {
   "cell_type": "markdown",
   "id": "39e15983-bb99-4326-b700-b06005b78f27",
   "metadata": {},
   "source": [
    "14.How does the “in” keyword work differently for lists and dictionaries?\n",
    "\n",
    "->> In lists: Checks if an element exists in the list.\n",
    "->> In dictionaries: Checks if a key exists.\n"
   ]
  },
  {
   "cell_type": "markdown",
   "id": "82da9a36-4c5e-40cb-ac62-c5a4d13d5455",
   "metadata": {},
   "source": [
    "15.Can you modify the elements of a tuple? Explain why or why not.\n",
    "\n",
    "->> No, tuples are immutable, so their elements cannot be changed after creation.\n"
   ]
  },
  {
   "cell_type": "markdown",
   "id": "ef8e215c-ac02-42e1-bf63-ac84c4b15085",
   "metadata": {},
   "source": [
    "16.What is a nested dictionary, and give an example of its use case?\n",
    "\n",
    "->> A dictionary inside another dictionary.\n",
    "->> Example: student = {\"name\": \"John\", \"marks\": {\"math\": 90, \"science\": 85}}.\n"
   ]
  },
  {
   "cell_type": "markdown",
   "id": "b4d73da6-6d76-459d-ab8f-c047d0656dfd",
   "metadata": {},
   "source": [
    "17.Describe the time complexity of accessing elements in a dictionary.\n",
    "\n",
    "->> Accessing an element in a dictionary typically has an average time complexity of O(1), meaning it takes constant time regardless of the dictionary's size.\n"
   ]
  },
  {
   "cell_type": "markdown",
   "id": "bea5ab68-aada-4566-a77f-df1aeef0f743",
   "metadata": {},
   "source": [
    "18.In what situations are lists preferred over dictionaries?\n",
    "\n",
    "->> When data order matters and indexing is required, or for simple linear collections.\n"
   ]
  },
  {
   "cell_type": "markdown",
   "id": "6fdbbb7e-6e3c-414b-8b5c-ef38d29776dd",
   "metadata": {},
   "source": [
    "19.Why are dictionaries considered unordered, and how does that affect data retrieval?\n",
    "\n",
    "->> Dictionaries are termed as an unordered collection of elements because the printed order of elements is not same as the order in which the elements are stored.\n",
    "->> Retrieval is based on key, not position.\n"
   ]
  },
  {
   "cell_type": "markdown",
   "id": "3cd5ecc0-93f7-4aac-b138-9515ba1ac651",
   "metadata": {},
   "source": [
    "20.Explain the difference between a list and a dictionary in terms of data retrieval.\n",
    "\n",
    "->> A list is an ordered collection of items, whereas a dictionary is an unordered data collection in a key-value pair.\n",
    "->> Elements from the list can be accessed using the index, while the elements of the dictionary can be accessed using keys.\n"
   ]
  },
  {
   "cell_type": "code",
   "execution_count": null,
   "id": "5780c43a-c474-43c2-a8a7-5e6691c6e4a2",
   "metadata": {},
   "outputs": [],
   "source": [
    "#practical questions :"
   ]
  },
  {
   "cell_type": "code",
   "execution_count": 1,
   "id": "1c565638-f0d5-4a14-9552-5ee5fb0a3d2b",
   "metadata": {},
   "outputs": [
    {
     "name": "stdout",
     "output_type": "stream",
     "text": [
      "jeera\n"
     ]
    }
   ],
   "source": [
    "#1.Write a code to create a string with your name and print it.\n",
    "name = \"jeera\"\n",
    "print(name)"
   ]
  },
  {
   "cell_type": "code",
   "execution_count": 4,
   "id": "1f6af03f-828b-428b-8b75-2f689555a556",
   "metadata": {},
   "outputs": [
    {
     "data": {
      "text/plain": [
       "11"
      ]
     },
     "execution_count": 4,
     "metadata": {},
     "output_type": "execute_result"
    }
   ],
   "source": [
    "#2.Write a code to find the length of the string \"Hello World\".\n",
    "word = \"Hello World\"\n",
    "len(word)"
   ]
  },
  {
   "cell_type": "code",
   "execution_count": 5,
   "id": "7cd5a56a-7273-4b26-b6dc-d232fcfa9f5b",
   "metadata": {},
   "outputs": [
    {
     "data": {
      "text/plain": [
       "'Pyt'"
      ]
     },
     "execution_count": 5,
     "metadata": {},
     "output_type": "execute_result"
    }
   ],
   "source": [
    "#3.Write a code to slice the first 3 characters from the string \"Python Programming\".\n",
    "str1 = \"Python Programming\"\n",
    "str1[:3]"
   ]
  },
  {
   "cell_type": "code",
   "execution_count": 6,
   "id": "d9b8e280-dcda-4f12-bf3e-b10a38ed9b4c",
   "metadata": {},
   "outputs": [
    {
     "name": "stdout",
     "output_type": "stream",
     "text": [
      "HELLO\n"
     ]
    }
   ],
   "source": [
    "#4.Write a code to convert the string \"hello\" to uppercase.\n",
    "print(\"hello\".upper())"
   ]
  },
  {
   "cell_type": "code",
   "execution_count": 7,
   "id": "f5c5d2bd-c356-4105-a3fd-344acc005c4a",
   "metadata": {},
   "outputs": [
    {
     "data": {
      "text/plain": [
       "'I like orange'"
      ]
     },
     "execution_count": 7,
     "metadata": {},
     "output_type": "execute_result"
    }
   ],
   "source": [
    "#5.Write a code to replace the word \"apple\" with \"orange\" in the string \"I like apple\"\n",
    "a = \"I like apple\"\n",
    "a.replace(\"apple\",\"orange\")"
   ]
  },
  {
   "cell_type": "code",
   "execution_count": 8,
   "id": "201859f4-21a9-4f57-98fc-5e507cbf1077",
   "metadata": {},
   "outputs": [
    {
     "name": "stdout",
     "output_type": "stream",
     "text": [
      "[1, 2, 3, 4, 5]\n"
     ]
    }
   ],
   "source": [
    "#6.Write a code to create a list with numbers 1 to 5 and print it.\n",
    "my_lis = [1,2,3,4,5]\n",
    "print(my_lis)"
   ]
  },
  {
   "cell_type": "code",
   "execution_count": 9,
   "id": "5874ee50-f829-4fdc-8799-dabc21e77843",
   "metadata": {},
   "outputs": [
    {
     "name": "stdout",
     "output_type": "stream",
     "text": [
      "[1, 2, 3, 4, 10]\n"
     ]
    }
   ],
   "source": [
    "#7.Write a code to append the number 10 to the list [1, 2, 3, 4].\n",
    "my_lis1 = [1,2,3,4]\n",
    "my_lis1.append(10)\n",
    "print(my_lis1)"
   ]
  },
  {
   "cell_type": "code",
   "execution_count": 3,
   "id": "2b5792b3-ff01-4804-a3d5-fccf1da3f9bf",
   "metadata": {},
   "outputs": [
    {
     "name": "stdout",
     "output_type": "stream",
     "text": [
      "[1, 2, 4, 5]\n"
     ]
    }
   ],
   "source": [
    "#8.Write a code to remove the number 3 from the list [1, 2, 3, 4, 5].\n",
    "my_lis2 = [1,2,3,4,5]\n",
    "my_lis2.remove(3)\n",
    "print(my_lis2)"
   ]
  },
  {
   "cell_type": "code",
   "execution_count": 5,
   "id": "0857d3ef-5d53-4bc4-b708-f34744c3d882",
   "metadata": {},
   "outputs": [
    {
     "data": {
      "text/plain": [
       "'b'"
      ]
     },
     "execution_count": 5,
     "metadata": {},
     "output_type": "execute_result"
    }
   ],
   "source": [
    "#9.Write a code to access the second element in the list ['a', 'b', 'c', 'd'].\n",
    "lis = ['a', 'b', 'c', 'd']\n",
    "lis[1]"
   ]
  },
  {
   "cell_type": "code",
   "execution_count": 6,
   "id": "ac4300c6-e3ff-4d98-b0ef-ab7cce69804e",
   "metadata": {},
   "outputs": [
    {
     "data": {
      "text/plain": [
       "[50, 40, 30, 20, 10]"
      ]
     },
     "execution_count": 6,
     "metadata": {},
     "output_type": "execute_result"
    }
   ],
   "source": [
    "#10.Write a code to reverse the list [10, 20, 30, 40, 50].\n",
    "my_lis = [10, 20, 30, 40, 50]\n",
    "my_lis[::-1]"
   ]
  },
  {
   "cell_type": "code",
   "execution_count": 7,
   "id": "78194306-3b2b-4cf6-b54d-92248d333e66",
   "metadata": {},
   "outputs": [
    {
     "name": "stdout",
     "output_type": "stream",
     "text": [
      "(100, 200, 300)\n"
     ]
    }
   ],
   "source": [
    "#11.Write a code to create a tuple with the elements 100, 200, 300 and print it.\n",
    "my_tup = (100, 200, 300)\n",
    "print(my_tup)"
   ]
  },
  {
   "cell_type": "code",
   "execution_count": 3,
   "id": "1e87a5d0-78e3-4052-9d63-a67f07fd4430",
   "metadata": {},
   "outputs": [
    {
     "data": {
      "text/plain": [
       "'blue'"
      ]
     },
     "execution_count": 3,
     "metadata": {},
     "output_type": "execute_result"
    }
   ],
   "source": [
    "#12.Write a code to access the second-to-last element of the tuple ('red', 'green', 'blue', 'yellow').\n",
    "tuple = ('red','green','blue','yellow')\n",
    "tuple[-2]"
   ]
  },
  {
   "cell_type": "code",
   "execution_count": 5,
   "id": "b979e1ca-57d8-4ce8-bed0-5aef4e35a16f",
   "metadata": {},
   "outputs": [
    {
     "data": {
      "text/plain": [
       "5"
      ]
     },
     "execution_count": 5,
     "metadata": {},
     "output_type": "execute_result"
    }
   ],
   "source": [
    "#13.Write a code to find the minimum number in the tuple (10, 20, 5, 15).\n",
    "tuple = (10, 20, 5, 15)\n",
    "min(tuple)"
   ]
  },
  {
   "cell_type": "code",
   "execution_count": 6,
   "id": "beaabaa5-32f2-4726-869e-273c4a3a1b10",
   "metadata": {},
   "outputs": [
    {
     "data": {
      "text/plain": [
       "1"
      ]
     },
     "execution_count": 6,
     "metadata": {},
     "output_type": "execute_result"
    }
   ],
   "source": [
    "#14.Write a code to find the index of the element \"cat\" in the tuple ('dog', 'cat', 'rabbit').\n",
    "tuple = ('dog', 'cat', 'rabbit')\n",
    "tuple.index(\"cat\")"
   ]
  },
  {
   "cell_type": "code",
   "execution_count": 7,
   "id": "f85d48e6-c97f-45cd-9f8b-0d8313d964e0",
   "metadata": {},
   "outputs": [
    {
     "ename": "NameError",
     "evalue": "name 'kiwi' is not defined",
     "output_type": "error",
     "traceback": [
      "\u001b[31m---------------------------------------------------------------------------\u001b[39m",
      "\u001b[31mNameError\u001b[39m                                 Traceback (most recent call last)",
      "\u001b[36mCell\u001b[39m\u001b[36m \u001b[39m\u001b[32mIn[7]\u001b[39m\u001b[32m, line 3\u001b[39m\n\u001b[32m      1\u001b[39m \u001b[38;5;66;03m#15.Write a code to create a tuple containing three different fruits and check if \"kiwi\" is in it\u001b[39;00m\n\u001b[32m      2\u001b[39m \u001b[38;5;28mtuple\u001b[39m = (\u001b[33m'\u001b[39m\u001b[33mbanana\u001b[39m\u001b[33m'\u001b[39m, \u001b[33m'\u001b[39m\u001b[33mapple\u001b[39m\u001b[33m'\u001b[39m, \u001b[33m'\u001b[39m\u001b[33mmango\u001b[39m\u001b[33m'\u001b[39m)\n\u001b[32m----> \u001b[39m\u001b[32m3\u001b[39m \u001b[43mkiwi\u001b[49m \u001b[38;5;129;01min\u001b[39;00m \u001b[38;5;28mtuple\u001b[39m\n",
      "\u001b[31mNameError\u001b[39m: name 'kiwi' is not defined"
     ]
    }
   ],
   "source": [
    "#15.Write a code to create a tuple containing three different fruits and check if \"kiwi\" is in it\n",
    "tuple = ('banana', 'apple', 'mango')\n",
    "kiwi in tuple"
   ]
  },
  {
   "cell_type": "code",
   "execution_count": 9,
   "id": "ca3e325a-0753-4794-a671-e6cf5fe1e768",
   "metadata": {},
   "outputs": [
    {
     "name": "stdout",
     "output_type": "stream",
     "text": [
      "{'b', 'a', 'c'}\n"
     ]
    }
   ],
   "source": [
    "#16.Write a code to create a set with the elements 'a', 'b', 'c' and print it.\n",
    "set = {'a','b','c'}\n",
    "print(set)"
   ]
  },
  {
   "cell_type": "code",
   "execution_count": 12,
   "id": "2bcde089-60d5-4798-be27-c3f0c9100976",
   "metadata": {},
   "outputs": [
    {
     "name": "stdout",
     "output_type": "stream",
     "text": [
      "set()\n"
     ]
    }
   ],
   "source": [
    "#17.Write a code to clear all elements from the set (1, 2, 3, 4, 5).\n",
    "s = {1, 2, 3, 4, 5}\n",
    "s.clear()\n",
    "print(s)"
   ]
  },
  {
   "cell_type": "code",
   "execution_count": 18,
   "id": "25baade0-d733-4260-b5f8-1655b43b7ec6",
   "metadata": {},
   "outputs": [
    {
     "name": "stdout",
     "output_type": "stream",
     "text": [
      "{1, 2, 3}\n"
     ]
    }
   ],
   "source": [
    "#18.Write a code to remove the element 4 from the set {1, 2, 3, 4).\n",
    "s = {1, 2, 3, 4}\n",
    "s.remove(4)\n",
    "print(s)"
   ]
  },
  {
   "cell_type": "code",
   "execution_count": 21,
   "id": "02574423-d219-487b-9716-c314e5d04141",
   "metadata": {},
   "outputs": [
    {
     "data": {
      "text/plain": [
       "{1, 2, 3, 4, 5}"
      ]
     },
     "execution_count": 21,
     "metadata": {},
     "output_type": "execute_result"
    }
   ],
   "source": [
    "#19.Write a code to find the union of two sets {1, 2, 3} and {3, 4, 5}.\n",
    "a = {1, 2, 3}\n",
    "b = {3, 4, 5}\n",
    "a | b"
   ]
  },
  {
   "cell_type": "code",
   "execution_count": 22,
   "id": "cc71523a-1bc5-47e2-820f-74a0fd8e32c0",
   "metadata": {},
   "outputs": [
    {
     "data": {
      "text/plain": [
       "{2, 3}"
      ]
     },
     "execution_count": 22,
     "metadata": {},
     "output_type": "execute_result"
    }
   ],
   "source": [
    "#20.Write a code to find the intersection of two sets {1, 2, 3} and {2, 3, 4}.\n",
    "a = {1, 2, 3} \n",
    "b = {2, 3, 4}\n",
    "a & b"
   ]
  },
  {
   "cell_type": "code",
   "execution_count": 24,
   "id": "316ebe01-d808-4bba-9401-748dacb3550e",
   "metadata": {},
   "outputs": [
    {
     "name": "stdout",
     "output_type": "stream",
     "text": [
      "{'name': 'jeera', 'age': '23', 'city': 'navsari'}\n"
     ]
    }
   ],
   "source": [
    "#21.Write a code to create a dictionary with the keys \"name\", \"age\", and \"city\", and print it.\n",
    "my_dict = {\"name\":\"jeera\", \"age\":\"23\", \"city\":\"navsari\"}\n",
    "print(my_dict)"
   ]
  },
  {
   "cell_type": "code",
   "execution_count": 32,
   "id": "68b42cbd-766b-4f56-8f7e-0b16f5a7e339",
   "metadata": {},
   "outputs": [
    {
     "name": "stdout",
     "output_type": "stream",
     "text": [
      "{'name': 'John', 'age': '25', 'country': 'USA'}\n"
     ]
    }
   ],
   "source": [
    "#22.Write a code to add a new key-value pair \"country\": \"USA\" to the dictionary ['name': 'John', 'age': 25].\n",
    "my_dict = {\"name\":\"John\",\"age\":\"25\"}\n",
    "my_dict[\"country\"] = \"USA\"\n",
    "print(my_dict)"
   ]
  },
  {
   "cell_type": "code",
   "execution_count": 35,
   "id": "83da0f13-ee2c-43d2-bf71-344cfa5a60de",
   "metadata": {},
   "outputs": [
    {
     "data": {
      "text/plain": [
       "'Alice'"
      ]
     },
     "execution_count": 35,
     "metadata": {},
     "output_type": "execute_result"
    }
   ],
   "source": [
    "#23.Write a code to access the value associated with the key \"name\" in the dictionary ('name': 'Alice', 'age': 30).\n",
    "info = {'name': 'Alice', 'age': '30'}\n",
    "info['name']"
   ]
  },
  {
   "cell_type": "code",
   "execution_count": 38,
   "id": "098271ad-0da9-4446-af1b-afe112f56fb6",
   "metadata": {},
   "outputs": [
    {
     "name": "stdout",
     "output_type": "stream",
     "text": [
      "{'name': 'Bob', 'city': 'New York'}\n"
     ]
    }
   ],
   "source": [
    "#24.Write a code to remove the key \"age\" from the dictionary {'name': 'Bob', 'age': 22, 'city': 'New York'}.\n",
    "info = {'name': 'Bob', 'age': 22, 'city': 'New York'}\n",
    "info.pop('age')\n",
    "print(info)"
   ]
  },
  {
   "cell_type": "code",
   "execution_count": 39,
   "id": "63c07165-3bfd-4c6d-b84d-0160d57cfe5e",
   "metadata": {},
   "outputs": [
    {
     "data": {
      "text/plain": [
       "True"
      ]
     },
     "execution_count": 39,
     "metadata": {},
     "output_type": "execute_result"
    }
   ],
   "source": [
    "#25.Write a code to check if the key \"city\" exists in the dictionary {'name': 'Alice', 'city': 'Paris'}.\n",
    "my_dict = {'name': 'Alice', 'city': 'Paris'}\n",
    "'city' in my_dict"
   ]
  },
  {
   "cell_type": "code",
   "execution_count": 40,
   "id": "009bd1a6-b08c-4482-90fd-0daca8ac8d7c",
   "metadata": {},
   "outputs": [
    {
     "name": "stdout",
     "output_type": "stream",
     "text": [
      "[1, 2, 3, 4, 5] (1, 2, 3, 4) {'name': 'Alice', 'city': 'Paris'}\n"
     ]
    }
   ],
   "source": [
    "#26.Write a code to create a list, a tuple, and a dictionary, and print them all.\n",
    "a = [1,2,3,4,5]\n",
    "b = (1,2,3,4)\n",
    "c = {'name': 'Alice', 'city': 'Paris'}\n",
    "print(a,b,c)"
   ]
  },
  {
   "cell_type": "code",
   "execution_count": 44,
   "id": "9bfc83f8-5cad-4736-a3dd-4846b2db4fee",
   "metadata": {},
   "outputs": [
    {
     "name": "stdout",
     "output_type": "stream",
     "text": [
      "[12, 17, 23, 27, 66]\n"
     ]
    }
   ],
   "source": [
    "#27.Write a code to create a list of 5 random numbers between 1 and 100, sort it in ascending order, and print the result. \n",
    "import random\n",
    "num = sorted([random.randint(1,100) for i in range(5)])\n",
    "print(num)"
   ]
  },
  {
   "cell_type": "code",
   "execution_count": 45,
   "id": "30ed51cd-3c14-48d5-8791-498d7e356674",
   "metadata": {},
   "outputs": [
    {
     "data": {
      "text/plain": [
       "'vivaan'"
      ]
     },
     "execution_count": 45,
     "metadata": {},
     "output_type": "execute_result"
    }
   ],
   "source": [
    "#28.Write a code to create a list with strings and print the element at the third index.\n",
    "my_lis = [\"vijay\",\"kali\",\"trishna\",\"vivaan\"]\n",
    "my_lis[3]"
   ]
  },
  {
   "cell_type": "code",
   "execution_count": 55,
   "id": "d8466b6c-88ce-45c8-a97c-72a001d78e71",
   "metadata": {},
   "outputs": [
    {
     "name": "stdout",
     "output_type": "stream",
     "text": [
      "{'name': 'john', 'age': '24', 'profession': 'shayar'}\n"
     ]
    }
   ],
   "source": [
    "#29.Write a code to combine two dictionaries into one and print the result.\n",
    "dict1 = {\"name\":\"john\",\"age\":\"24\"}\n",
    "dict2 = {\"profession\":\"shayar\"}\n",
    "dict3 = {**dict1,**dict2}\n",
    "print(dict3)"
   ]
  },
  {
   "cell_type": "code",
   "execution_count": 1,
   "id": "6c760a4a-518e-4f9d-adaf-2f97385d5328",
   "metadata": {},
   "outputs": [
    {
     "name": "stdout",
     "output_type": "stream",
     "text": [
      "{'vivaan', 'kali', 'vijay', 'trishna'}\n"
     ]
    }
   ],
   "source": [
    "#30.Write a code to convert a list of strings into a set.\n",
    "str_list = ['vijay','kali','trishna','vivaan']\n",
    "set = set(str_list)\n",
    "print(set)"
   ]
  }
 ],
 "metadata": {
  "kernelspec": {
   "display_name": "Python 3 (ipykernel)",
   "language": "python",
   "name": "python3"
  },
  "language_info": {
   "codemirror_mode": {
    "name": "ipython",
    "version": 3
   },
   "file_extension": ".py",
   "mimetype": "text/x-python",
   "name": "python",
   "nbconvert_exporter": "python",
   "pygments_lexer": "ipython3",
   "version": "3.12.3"
  }
 },
 "nbformat": 4,
 "nbformat_minor": 5
}
